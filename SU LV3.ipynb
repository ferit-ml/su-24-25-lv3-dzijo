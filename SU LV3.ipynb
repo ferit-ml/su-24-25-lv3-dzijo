{
  "nbformat": 4,
  "nbformat_minor": 0,
  "metadata": {
    "colab": {
      "provenance": [],
      "gpuType": "T4",
      "include_colab_link": true
    },
    "kernelspec": {
      "name": "python3",
      "display_name": "Python 3"
    },
    "language_info": {
      "name": "python"
    },
    "accelerator": "GPU"
  },
  "cells": [
    {
      "cell_type": "markdown",
      "metadata": {
        "id": "view-in-github",
        "colab_type": "text"
      },
      "source": [
        "<a href=\"https://colab.research.google.com/github/ferit-ml/su-24-25-lv3-dzijo/blob/main/SU%20LV3.ipynb\" target=\"_parent\"><img src=\"https://colab.research.google.com/assets/colab-badge.svg\" alt=\"Open In Colab\"/></a>"
      ]
    },
    {
      "cell_type": "markdown",
      "source": [
        "# Poboljšavanje učenja CNN\n",
        "\n",
        "Postoje razni problemi do kojih dolazi zbog kojih neuronske mreže mogu imati loše rezultate. U ovom LV-u ćemo obraditi neke od načina poboljšavanja učenja neuronskih mreža. Radit ćemo na primjeru konvolucijske neuronske mreže, ali neke od ovih strategija mogu se primijeniti i na druge neuronske mreže."
      ],
      "metadata": {
        "id": "56h1pQ5-s1JD"
      }
    },
    {
      "cell_type": "markdown",
      "source": [
        "## Hiperparametri\n",
        "\n",
        "Parametri čije se vrijednosti postavljaju prije početka procesa treniranja mreže, a utječu na strukturu modela ili na efikasnost procesa učenja (kontroliraju tijek učenja).\n",
        "\n",
        "Dvije skupine:\n",
        "* Hiperparametri vezani za strukturu mreže: broj slojeva, veličina slojeva (npr. broj neurona ili broj filtara), tip aktivacijskih funkcija, veličina filtara, raspored slojeva itd.\n",
        "* Algoritamski hiperparametri koji kontroliraju način na koji se mreža uči i kako se ažuriraju težine tijekom treninga: veličina batcha, optimizacijski algoritam, broj epoha, stopa učenja, odabir funkcije gubitka i sl.\n",
        "\n",
        "#### Optimizacijski algoritam\n",
        "\n",
        "Postoje razni optimiziacijski algoritmi, ali smo dosad na laboratorijskim vježbama koristili samo SGD (*stochastic gradient descent*). U Pytorchu su implementirati razni drugi [optimizacijski algoritmi](https://pytorch.org/docs/stable/optim.html). U zadnje vrijeme je Adam optimiziacijski algoritam vrlo popularan.\n",
        "\n",
        "#### Stopa učenja\n",
        "\n",
        "[Raspoređivanje stope učenja (engl. learning rate scheduling)](https://pytorch.org/docs/stable/generated/torch.optim.lr_scheduler.StepLR.html#torch.optim.lr_scheduler.StepLR) je tehnika u optimizacijskim algoritmima gdje se stopa učenja dinamički mijenja tijekom vremena prema unaprijed definiranom rasporedu ili na temelju određenih pravila.\n",
        "\n",
        "#### Veličina batcha\n",
        "\n",
        "S većom veličinom batcha moguće je ubrzati proces treninga (iskorištava se paralelizam modernih GPU-ova), ali mogući su problemi s konvergencijom."
      ],
      "metadata": {
        "id": "R2V7lD70-xsB"
      }
    },
    {
      "cell_type": "markdown",
      "source": [
        "## Problem pretjeranog usklađivanja (*overfitting*) i problem podusklađivanja (*underfitting*)\n",
        "\n",
        "Čest problem kod treniranja neuronskih mreža je pretjerano prilagođavanje na podatke za treniranje. Do ovoga dolazi kad neuronska mreža ima dobre performanse na trening podacima, ali na novim, testnim podacima ima loše performanse. Ovaj fenomen se često može uočiti pomoću krivulja funkcije gubitka (*loss curve*). Ako vrijednost funkcije gubitka opada na skupu za treniranje, a ne opada, ili ponekad i raste, na skupu za validaciju, možemo reći da dolazi do pretjeranog prilagođavanja na podatke za treniranje. Ovo se također može vidjeti i u performansama modela na istim skupovima, primjerice točnost može opadati na skupu za validaciju. Primjer krivulja funkcije gubitka na skupovima za testiranje i validaciju prikazan je na slici.\n",
        "\n",
        "![loss.png](data:image/png;base64,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)\n",
        "\n",
        "Također je čest i problem podusklađivanja (*underfitting*). Česti uzroci podusklađivanja uključuju:\n",
        " * Podaci za treniranje su loši i sadrže šumovite podatke\n",
        " * Model ima premali kapacitet za dani problem\n",
        " * Podatkovni skup za treniranje nije dovoljno velik\n",
        "Lako je detektirati podusklađivanje jer će model u tom slučaju imati loše rezultate i na skupu za treniranje i na skupu za validaciju."
      ],
      "metadata": {
        "id": "JwFDxanDvB2d"
      }
    },
    {
      "cell_type": "markdown",
      "source": [
        "### Smanjivanje *overfittinga*\n",
        "\n",
        "Postoje razne tehnike smanjivanja *overfittinga*:\n",
        "* Rano zaustavljanje (engl. early stopping)\n",
        "* Korištenjem [sloja s nasumičnim isključivanjem neurona (engl. dropout)](https://pytorch.org/docs/stable/generated/torch.nn.Dropout.html)\n",
        "  * [Prostorni(*spatial*) *dropout*](https://pytorch.org/docs/stable/generated/torch.nn.Dropout2d.html) uz konvolucijske slojeve\n",
        "* Prikupljanje dodatnih primjera koji će se koristiti tijekom učenja\n",
        "* [Augmentacija skupa za učenje](https://pytorch.org/vision/stable/transforms.html)\n",
        "* Dodavanje regularizacijskih članova u kriterijsku funkciju (pomoću parametra `weight_decay`)\n",
        "* Korištenjem [batch normalizacije (engl. batch normalization)](https://pytorch.org/docs/stable/generated/torch.nn.BatchNorm2d.html)\n",
        "* Regularizacija modifikacijom kriterijske funkcije\n",
        "\n",
        "\n"
      ],
      "metadata": {
        "id": "TYaluwQonxXD"
      }
    },
    {
      "cell_type": "markdown",
      "source": [
        "### TensorBoard\n",
        "\n",
        "TensorBoard je popularan alat za praćenje treniranja i vizualizaciju."
      ],
      "metadata": {
        "id": "0IhvlLvotVss"
      }
    },
    {
      "cell_type": "code",
      "source": [
        "# Import tensorboard logger from PyTorch\n",
        "from torch.utils.tensorboard import SummaryWriter\n",
        "\n",
        "# Load tensorboard extension for Jupyter Notebook, only need to start TB in the notebook\n",
        "%load_ext tensorboard"
      ],
      "metadata": {
        "id": "FfgNPN7Ltm0a"
      },
      "execution_count": null,
      "outputs": []
    },
    {
      "cell_type": "code",
      "source": [
        "def eval_model(model, data_loader, loss_module):\n",
        "    model.eval() # Set model to eval mode\n",
        "    true_preds, num_preds = 0., 0.\n",
        "\n",
        "    ## TODO\n",
        "    ## Calculate loss for the whole dataset\n",
        "    running_loss = 0.\n",
        "\n",
        "\n",
        "    with torch.no_grad(): # Deactivate gradients for the following code\n",
        "        for data_inputs, data_labels in data_loader:\n",
        "\n",
        "            # Determine prediction of model on dev set\n",
        "            data_inputs, data_labels = data_inputs.to(device), data_labels.to(device)\n",
        "            preds = model(data_inputs)\n",
        "            _, pred_labels = torch.max(preds.data, dim=1) # Binarize predictions to 0 and 1\n",
        "\n",
        "            # Keep records of predictions for the accuracy metric (true_preds=TP+TN, num_preds=TP+TN+FP+FN)\n",
        "            true_preds += (pred_labels == data_labels).sum().item()\n",
        "            num_preds += data_labels.shape[0]\n",
        "\n",
        "            loss = loss_module(preds, data_labels)\n",
        "            running_loss += loss.item()\n",
        "\n",
        "\n",
        "    acc = true_preds / num_preds\n",
        "    running_loss /= len(data_loader)\n",
        "    print(f\"Accuracy of the model: {100.0*acc:4.2f}%\")\n",
        "    ## TODO\n",
        "    ## Return the accuracy and the loss\n",
        "    return acc, running_loss"
      ],
      "metadata": {
        "id": "4RA4eb4UdJK7"
      },
      "execution_count": null,
      "outputs": []
    },
    {
      "cell_type": "markdown",
      "source": [
        "PyTorchov TensorBoard API je jednostavan za korištenje. Praćenje treniranja se započinje kreiranjem objekta pisača, `writer = SummaryWriter(...)`, za koji je potrebno specificirati direktorij u koji će se spremati datoteka za praćenje treniranja. Pomoću ovog objekta, možemo pratiti razne apsekte modela prilikom treniranja pomoću funkcija `writer.add_...`. Primjerice, možemo dodati skalarnu vrijednost pomoću `writer.add_scalar`, ili možemo dodati graf napravljen korištenjem `matplotlib.pyplot` biblioteke pomoću `writer.add_figure`. U nastavku je primjer praćenja vrijednosti funkcije gubitka na skupu za treniranje."
      ],
      "metadata": {
        "id": "gZET3UOotnaK"
      }
    },
    {
      "cell_type": "code",
      "source": [
        "def train_model_with_logger(model, optimizer, train_data_loader, val_data_loader, loss_module, num_epochs=100, logging_dir='runs/our_experiment'):\n",
        "    # Set model to train mode\n",
        "    writer = SummaryWriter(logging_dir)\n",
        "    model_plotted = False\n",
        "    model.train()\n",
        "\n",
        "    # Training loop\n",
        "    for epoch in range(num_epochs):\n",
        "        epoch_loss = 0.0\n",
        "        for data_inputs, data_labels in tqdm(train_data_loader, 'Epoch %d'%(epoch + 1)):\n",
        "\n",
        "            ## Step 1: Move input data to device\n",
        "            data_inputs = data_inputs.to(device)\n",
        "            data_labels = data_labels.to(device)\n",
        "\n",
        "            # For the very first batch, we visualize the computation graph in TensorBoard\n",
        "            if not model_plotted:\n",
        "                writer.add_graph(model, data_inputs)\n",
        "                model_plotted = True\n",
        "\n",
        "            ## Step 2: Run the model on the input data\n",
        "            preds = model(data_inputs)\n",
        "\n",
        "            ## Step 3: Calculate the loss\n",
        "            loss = loss_module(preds, data_labels)\n",
        "\n",
        "            ## Step 4: Perform backpropagation\n",
        "            optimizer.zero_grad()\n",
        "            # Perform backpropagation\n",
        "            loss.backward()\n",
        "\n",
        "            ## Step 5: Update the parameters\n",
        "            optimizer.step()\n",
        "\n",
        "            epoch_loss += loss.item() * len(data_inputs)\n",
        "\n",
        "        # Add average loss to TensorBoard\n",
        "        train_acc_, train_loss_ = eval_model(model, train_data_loader, loss_module)\n",
        "        val_acc_, val_loss_ = eval_model(model, val_data_loader, loss_module)\n",
        "\n",
        "        writer.add_scalars(f'loss', {\n",
        "          'train': train_loss_,\n",
        "          'validation': val_loss_,\n",
        "        }, epoch + 1)\n",
        "\n",
        "        writer.add_scalars(f'accuracy', {\n",
        "          'train': train_acc_,\n",
        "          'validation': val_acc_,\n",
        "        }, epoch + 1)\n",
        "\n",
        "    writer.close()"
      ],
      "metadata": {
        "id": "Ta9J6Y6At-gT"
      },
      "execution_count": null,
      "outputs": []
    },
    {
      "cell_type": "markdown",
      "source": [
        "TensorBoard datoteka u odabranom direktoriju će sadržavati vrijednosti funkcije gubitka. Za pokretanje TensorBoard alata za vizualizaciju, pokrenite sljedeću naredbu:"
      ],
      "metadata": {
        "id": "RgxK6sfJwRaU"
      }
    },
    {
      "cell_type": "markdown",
      "source": [
        "## Zadataci\n",
        "\n",
        "1. U funkciju za treniranje mreže dodajte i praćenje vrijednsoti funkcije gubitka na validacijskom skupu. Također dodajte i praćenje točnosti na oba skupa. Sve te vrijednsoti dodajte u TensorBoard *writer*.\n",
        "\n",
        "2. U funkciju za treniranje mreže dodajte spremanje modela svakih nekoliko epoha.\n",
        "\n",
        "3. Poboljšajte performanse konvolucijske neuronske mreže iz 2. laboratorijske vježbe pomoću nekih od navedenih tehnika:\n",
        "* Isprobajte barem još jedan optimizacijski algoritam.\n",
        "* Dodajte *dropout* i *spatial dropout* u CNN\n",
        "* Dodajte *batch norm* u CNN\n",
        "* Isprobajte treniranje uz *weight_decay*\n",
        "* Dodajte augmentaciju skupa za učenje\n",
        "\n",
        "\n"
      ],
      "metadata": {
        "id": "tvO9TPB_ryH3"
      }
    },
    {
      "cell_type": "code",
      "source": [
        "## Importing useful libraries\n",
        "import os\n",
        "import math\n",
        "import numpy as np\n",
        "import time\n",
        "import torch\n",
        "import torch.nn as nn\n",
        "import torch.nn.functional as F\n",
        "import torch.utils.data as data\n",
        "import torchvision.transforms as transforms\n",
        "import torchvision\n",
        "\n",
        "import matplotlib.pyplot as plt\n",
        "from imageio.v2 import imread\n",
        "%matplotlib inline\n",
        "\n",
        "from tqdm.notebook import tqdm\n"
      ],
      "metadata": {
        "id": "CTitQvSg24Sq"
      },
      "execution_count": null,
      "outputs": []
    },
    {
      "cell_type": "code",
      "source": [
        "device = torch.device(\"cuda\") if torch.cuda.is_available() else torch.device(\"cpu\")\n",
        "print(\"Device\", device)\n",
        "\n",
        "k = 0"
      ],
      "metadata": {
        "id": "E3LjHK9xZsyO"
      },
      "execution_count": null,
      "outputs": []
    },
    {
      "cell_type": "code",
      "source": [
        "transform = transforms.Compose(\n",
        "    [transforms.ToTensor(),\n",
        "     transforms.Normalize((0.5, 0.5, 0.5), (0.5, 0.5, 0.5))])\n",
        "\n",
        "batch_size = 512\n",
        "\n",
        "whole_trainset = torchvision.datasets.CIFAR10(root='./data', train=True,\n",
        "                                        download=True, transform=transform)\n",
        "## TODO\n",
        "## divide the trainset into trainset and valset\n",
        "## containing 40000 and 10000 images respectively\n",
        "trainset, valset = torch.utils.data.random_split(whole_trainset, [40000, 10000])\n",
        "\n",
        "trainloader = torch.utils.data.DataLoader(trainset, batch_size=batch_size,\n",
        "                                          shuffle=True, num_workers=2)\n",
        "\n",
        "valloader = torch.utils.data.DataLoader(valset, batch_size=batch_size,\n",
        "                                        shuffle=False, num_workers=2)\n",
        "\n",
        "testset = torchvision.datasets.CIFAR10(root='./data', train=False,\n",
        "                                       download=True, transform=transform)\n",
        "testloader = torch.utils.data.DataLoader(testset, batch_size=batch_size,\n",
        "                                         shuffle=False, num_workers=2)\n",
        "\n",
        "classes = ('plane', 'car', 'bird', 'cat',\n",
        "           'deer', 'dog', 'frog', 'horse', 'ship', 'truck')"
      ],
      "metadata": {
        "id": "tQ7SdLB0Zt2v"
      },
      "execution_count": null,
      "outputs": []
    },
    {
      "cell_type": "code",
      "source": [
        "class CNN(nn.Module):\n",
        "\n",
        "    def __init__(self, input_shape, out_classes):\n",
        "        super().__init__()\n",
        "        # Initialize the modules we need to build the network\n",
        "        self.conv1 = nn.Conv2d(in_channels=input_shape[0], out_channels=16, kernel_size=3, stride=1, padding='same')\n",
        "        self.conv2 = nn.Conv2d(in_channels=16, out_channels=32, kernel_size=3, stride=1, padding='same')\n",
        "        self.conv3 = nn.Conv2d(in_channels=32, out_channels=64, kernel_size=3, stride=1, padding='same')\n",
        "        self.pool = nn.MaxPool2d(kernel_size=2, stride=2)\n",
        "        self.relu = nn.ReLU()\n",
        "        self.flatten = nn.Flatten()\n",
        "        ## determine the number of inputs to the linear layer dynamically\n",
        "        flattened_features = self.get_number_of_features(input_shape)\n",
        "        self.fc1 = nn.Linear(in_features=flattened_features, out_features=128)\n",
        "        self.fc2 = nn.Linear(in_features=128, out_features=64)\n",
        "        self.fc3 = nn.Linear(in_features=64, out_features=out_classes)\n",
        "\n",
        "    def get_number_of_features(self, input_shape):\n",
        "        x = torch.rand((1, *input_shape))\n",
        "        x = self.conv1(x)\n",
        "        x = self.relu(x)\n",
        "        x = self.pool(x)\n",
        "        x = self.conv2(x)\n",
        "        x = self.relu(x)\n",
        "        x = self.pool(x)\n",
        "        x = self.conv3(x)\n",
        "        x = self.relu(x)\n",
        "        x = self.pool(x)\n",
        "        return self.flatten(x).shape[1]\n",
        "\n",
        "    def forward(self, x):\n",
        "        # Perform the calculation of the model to determine the prediction\n",
        "        x = self.conv1(x)\n",
        "        x = self.relu(x)\n",
        "        x = self.pool(x)\n",
        "        x = self.conv2(x)\n",
        "        x = self.relu(x)\n",
        "        x = self.pool(x)\n",
        "        x = self.conv3(x)\n",
        "        x = self.relu(x)\n",
        "        x = self.pool(x)\n",
        "        x = self.flatten(x)\n",
        "        x = self.fc1(x)\n",
        "        x = self.relu(x)\n",
        "        x = self.fc2(x)\n",
        "        x = self.relu(x)\n",
        "        x = self.fc3(x)\n",
        "        return x"
      ],
      "metadata": {
        "id": "bW9oQrNBZxRQ"
      },
      "execution_count": null,
      "outputs": []
    },
    {
      "cell_type": "code",
      "source": [
        "device = torch.device(\"cuda:0\" if torch.cuda.is_available() else \"cpu\")\n",
        "model = CNN(input_shape=(3, 32, 32), out_classes=10).to(device)\n",
        "loss_module = nn.CrossEntropyLoss()\n",
        "optimizer = torch.optim.Adam(model.parameters(), lr=0.001)"
      ],
      "metadata": {
        "id": "YGBMovNeZxan"
      },
      "execution_count": null,
      "outputs": []
    },
    {
      "cell_type": "code",
      "source": [
        "k += 1\n",
        "logging_dir = f'runs/experiment_{k}'\n",
        "%tensorboard --logdir $logging_dir"
      ],
      "metadata": {
        "id": "miw0VFL11-9V"
      },
      "execution_count": null,
      "outputs": []
    },
    {
      "cell_type": "code",
      "source": [
        "train_model_with_logger(model, optimizer, trainloader, valloader, loss_module, num_epochs=100, logging_dir=logging_dir)"
      ],
      "metadata": {
        "id": "2v4_NMqFZxfL"
      },
      "execution_count": null,
      "outputs": []
    },
    {
      "cell_type": "code",
      "source": [],
      "metadata": {
        "id": "r4zIgiA6ad_l"
      },
      "execution_count": null,
      "outputs": []
    }
  ]
}